{
 "cells": [
  {
   "cell_type": "markdown",
   "id": "6bc14144-2aec-42c7-b947-0a562a642012",
   "metadata": {},
   "source": [
    "# Customer satisfaction prediction"
   ]
  },
  {
   "cell_type": "markdown",
   "id": "0577a218-12ab-4640-8c2f-24aff6db3e01",
   "metadata": {},
   "source": [
    "## Dataset structure\n",
    "| n    | Variable                      | Description                                                  |\n",
    "| :--- | :---------------------------- | :----------------------------------------------------------- |\n",
    "| 1    | id                            | Client ID                                                    |\n",
    "| 2    | Gender                        | Client Gender                                                |\n",
    "| 3    | Customer type                 | Client type: Premium or Standard                             |\n",
    "| 4    | Age                           | Client Age                                                   |\n",
    "| 5    | Price                         | Client Age                                                   |\n",
    "| 6    | New/Used                      | Client Age                                                   |\n",
    "| 7    | Category                      | Client Age                                                   |\n",
    "| 8    | Product description accuracy  | Level of satisfaction on product description                 |\n",
    "| 9    | Manufacturer stainability     | Level of satisfaction on the manufacturing sustainability process |\n",
    "| 10   | Packaging quality             | Level of satisfaction on packaging                           |\n",
    "| 11   | Additional options            | Level of satisfaction on extra options                       |\n",
    "| 12   | Reviews and ratings           | Level of satisfaction on reviews and rating information      |\n",
    "| 13   | Integrity of packaging        | Level of satisfaction on packaging state                     |\n",
    "| 14   | Check-out procedure           | Level of satisfaction on payment procedure                   |\n",
    "| 15   | Relevance of related products | Level of satisfaction on related product suggestion          |\n",
    "| 16   | Costumer insurance            | Level of satisfaction on insurance options                   |\n",
    "| 17   | Shipping delay in days        | Delay of shipping in days                                    |\n",
    "| 18   | Arrival delay in days         | Arrival delay on days                                        |\n",
    "| 19   | Satisfaction                  | Target: Satisfied, Not Satisfied                             |"
   ]
  },
  {
   "cell_type": "code",
   "execution_count": 40,
   "id": "c1357e41-1ce2-4f39-a92e-f9204ac6f6ac",
   "metadata": {},
   "outputs": [],
   "source": [
    "import pandas as pd\n",
    "import numpy as np\n",
    "\n",
    "%matplotlib inline\n",
    "import seaborn as sns\n",
    "import matplotlib.pyplot as plt\n",
    "\n",
    "from sklearn.model_selection import GridSearchCV\n",
    "from sklearn.metrics import confusion_matrix\n",
    "from sklearn.metrics import classification_report\n",
    "from sklearn import metrics \n",
    "from sklearn.metrics import f1_score\n",
    "from sklearn.metrics import precision_score"
   ]
  },
  {
   "cell_type": "markdown",
   "id": "f96c5a37-a6f3-4219-8848-e4ed5394779a",
   "metadata": {},
   "source": [
    "***\n",
    "## Useful function"
   ]
  },
  {
   "cell_type": "code",
   "execution_count": 64,
   "id": "a578eceb-94bb-441b-a210-4d8daa7f2f45",
   "metadata": {},
   "outputs": [],
   "source": [
    "# Function to load normal dataset and to return train and test split\n",
    "def load_normaldf(test = 0.3):\n",
    "    df = pd.read_csv('../data/processed/models_processed.csv')\n",
    "    X = df.iloc[:,:-1]\n",
    "    y = df.iloc[:,-1]\n",
    "    X_train, X_Test, y_train, y_test = train_test_split(X,\n",
    "                                                        y,\n",
    "                                                        test_size= .3,\n",
    "                                                        stratify= y,\n",
    "                                                        random_state=42)\n",
    "    print(X_train.shape, X_test.shape, y_train.shape, y_test.shape)\n",
    "    return X_train, X_test, y_train, y_test"
   ]
  },
  {
   "cell_type": "code",
   "execution_count": 58,
   "id": "073dfa82-b4b7-434c-836f-98cb84c2d6fe",
   "metadata": {},
   "outputs": [],
   "source": [
    "# Function to load downsampled dataset and to return train and test split\n",
    "def load_downldf(test = 0.3):\n",
    "    df = pd.read_csv('../data/processed/model_proc_down.csv')\n",
    "    X = df.iloc[:,:-1]\n",
    "    y = df.iloc[:,-1]\n",
    "    X_train, X_Test, y_train, y_test = train_test_split(X,\n",
    "                                                        y,\n",
    "                                                        test_size= .3,\n",
    "                                                        random_state=42)\n",
    "    print(X_train.shape, X_test.shape, y_train.shape, y_test.shape)\n",
    "    return X_train, X_test, y_train, y_test"
   ]
  },
  {
   "cell_type": "code",
   "execution_count": 69,
   "id": "79d4d261-4c90-42c8-bca0-03e9d3612c22",
   "metadata": {},
   "outputs": [],
   "source": [
    "# Function to brute force searching and printing results\n",
    "def hyperp_search(classifier, parameters):\n",
    "    gs = GridSearchCV(classifier, parameters, cv=3, scoring = 'f1', verbose=0, n_jobs=-1)\n",
    "    gs = gs.fit(X_train, y_train)\n",
    "    print(\"Score: %f using %s\" % (gs.best_score_, gs.best_params_))\n",
    "\n",
    "    best_model = gs.best_estimator_\n",
    "    y_pred = best_model.predict(X_test)\n",
    "    y_pred_train = best_model.predict(X_train)\n",
    "\n",
    "    print(\"f1=====\\ntrain: %.3f\\ntest: %.3f\\n=====\" % (f1_score(y_train, y_pred_train), f1_score(y_test, y_pred) )) \n",
    "    print(\"\\nPrecision=====\\ntrain: %.3f\\ntest: %.3f\\n=====\" % (precision_score(y_train, y_pred_train), precision_score(y_test, y_pred) )) \n",
    "    print(\"\")\n",
    "    sns.heatmap(confusion_matrix(y_test, y_pred), annot=True, fmt = '2d', cmap='Oranges')\n",
    "    plt.show()\n",
    "    return best_model"
   ]
  },
  {
   "cell_type": "code",
   "execution_count": 62,
   "id": "bfc62c21-6042-46b2-a3dd-bf092afb0cf9",
   "metadata": {},
   "outputs": [],
   "source": [
    "# Plot ROC curve and AUC score\n",
    "def roc(model,X_train,y_train,X_test,y_test):\n",
    "    model.fit(X_train, y_train)\n",
    "    y_pred = model.predict(X_test)\n",
    "\n",
    "    y_probs = model.predict_proba(X_test) #predict_proba gives the probabilities for the target (0 and 1 in your case) \n",
    "\n",
    "    fpr, tpr, thresholds1=metrics.roc_curve(y_test,  y_probs[:,1])\n",
    "\n",
    "    import matplotlib.pyplot as plt\n",
    "    plt.plot(fpr, tpr, label='ROC')\n",
    "    plt.plot([0, 1], [0, 1], color='darkblue', linestyle='--')\n",
    "    plt.xlabel('False Positive Rate')\n",
    "    plt.ylabel('True Positive Rate')\n",
    "    plt.title('Receiver Operating Characteristic (ROC) Curve')\n",
    "    plt.legend()\n",
    "    plt.show()\n",
    "\n",
    "    auc = metrics.roc_auc_score(y_test, y_probs[:,1])\n",
    "    print('AUC: %.2f' % auc)\n",
    "    return (fpr, tpr)"
   ]
  },
  {
   "cell_type": "markdown",
   "id": "d95f98b1-88ed-4027-8167-be43d3406441",
   "metadata": {},
   "source": [
    "***\n",
    "## Model fitting"
   ]
  },
  {
   "cell_type": "markdown",
   "id": "79d93dfc-5064-4e0c-841e-e7d6816b6232",
   "metadata": {},
   "source": [
    "***\n",
    "#### KNN Normal dataset"
   ]
  },
  {
   "cell_type": "code",
   "execution_count": 66,
   "id": "09dfef65-4cdd-4b98-87b6-1fdd3e77e156",
   "metadata": {},
   "outputs": [
    {
     "name": "stdout",
     "output_type": "stream",
     "text": [
      "(35000, 23) (15000, 23) (35000,) (15000,)\n"
     ]
    }
   ],
   "source": [
    "X_train, X_test, y_train, y_test = load_normaldf()"
   ]
  },
  {
   "cell_type": "code",
   "execution_count": 67,
   "id": "5bf0ace5-9aec-44f1-8dee-32932c387480",
   "metadata": {},
   "outputs": [],
   "source": [
    "# KNN\n",
    "from sklearn.neighbors import KNeighborsClassifier\n",
    "classifier = KNeighborsClassifier()\n",
    "parameters = {'n_neighbors':np.arange(10,500,20)}"
   ]
  },
  {
   "cell_type": "code",
   "execution_count": 70,
   "id": "d0e5ab7a-1c49-41b4-bad0-8680149a048c",
   "metadata": {},
   "outputs": [
    {
     "name": "stdout",
     "output_type": "stream",
     "text": [
      "Score: 0.255103 using {'n_neighbors': 10}\n",
      "f1=====\n",
      "train: 0.399\n",
      "test: 0.259\n",
      "=====\n",
      "\n",
      "Precision=====\n",
      "train: 0.647\n",
      "test: 0.422\n",
      "=====\n",
      "\n"
     ]
    },
    {
     "data": {
      "image/png": "[encoded data removed]",
      "text/plain": [
       "<Figure size 432x288 with 2 Axes>"
      ]
     },
     "metadata": {
      "needs_background": "light"
     },
     "output_type": "display_data"
    }
   ],
   "source": [
    "best_model = hyperp_search(classifier,parameters)"
   ]
  },
  {
   "cell_type": "code",
   "execution_count": 39,
   "id": "cfb15cd3-72fe-4056-bdbc-0b4b084a802c",
   "metadata": {},
   "outputs": [
    {
     "name": "stdout",
     "output_type": "stream",
     "text": [
      "f1_train: 0.373384 using {'n_neighbors': 5}\n",
      "f1=====\n",
      "train: 0.601\n",
      "test: 0.373\n",
      "=====\n",
      "\n",
      "Precision=====\n",
      "train: 0.665\n",
      "test: 0.415\n",
      "=====\n",
      "\n"
     ]
    },
    {
     "data": {
      "image/png": "[encoded data removed]",
      "text/plain": [
       "<Figure size 432x288 with 2 Axes>"
      ]
     },
     "metadata": {},
     "output_type": "display_data"
    }
   ],
   "source": [
    "parameters = {'n_neighbors':np.arange(4,20,1)}\n",
    "hyperp_search(classifier, parameters)"
   ]
  },
  {
   "cell_type": "code",
   "execution_count": 71,
   "id": "21135d51-64bc-4b54-9e6f-805ddbf4f6d7",
   "metadata": {},
   "outputs": [],
   "source": [
    "# save to pickle\n",
    "import pickle\n",
    "with open('../models/normal_df/KNN.pkl','wb') as file:\n",
    "    pickle.dump(best_model, file)"
   ]
  },
  {
   "cell_type": "code",
   "execution_count": null,
   "id": "816fe8c5-a8ba-4ecc-9ecf-676ac7dce238",
   "metadata": {},
   "outputs": [],
   "source": []
  }
 ],
 "metadata": {
  "kernelspec": {
   "display_name": "Python 3 (ipykernel)",
   "language": "python",
   "name": "python3"
  },
  "language_info": {
   "codemirror_mode": {
    "name": "ipython",
    "version": 3
   },
   "file_extension": ".py",
   "mimetype": "text/x-python",
   "name": "python",
   "nbconvert_exporter": "python",
   "pygments_lexer": "ipython3",
   "version": "3.9.7"
  }
 },
 "nbformat": 4,
 "nbformat_minor": 5
}
